{
  "metadata": {
    "kernelspec": {
      "name": "python",
      "display_name": "Python (Pyodide)",
      "language": "python"
    },
    "language_info": {
      "codemirror_mode": {
        "name": "python",
        "version": 3
      },
      "file_extension": ".py",
      "mimetype": "text/x-python",
      "name": "python",
      "nbconvert_exporter": "python",
      "pygments_lexer": "ipython3",
      "version": "3.8"
    }
  },
  "nbformat_minor": 4,
  "nbformat": 4,
  "cells": [
    {
      "cell_type": "markdown",
      "source": "# Data Science Ecosystem",
      "metadata": {}
    },
    {
      "cell_type": "markdown",
      "source": "## Introduction\nThis notebook provides an overview of the Data Science ecosystem and highlights the key tools, libraries, and concepts.\n",
      "metadata": {}
    },
    {
      "cell_type": "markdown",
      "source": "## Languages of Data Science\nThe popular languages for Data Science are:\n1. Python\n2. R\n3. SQL\n4. Julia\n5. Scala\n",
      "metadata": {}
    },
    {
      "cell_type": "markdown",
      "source": "## Data Science Libraries\nSome commonly used libraries in Data Science include:\n- Pandas\n- NumPy\n- Matplotlib\n- Scikit-learn\n- TensorFlow\n- PyTorch\n",
      "metadata": {}
    },
    {
      "cell_type": "markdown",
      "source": "## Data Science Tools\n| Tool             | Description                          |\n|------------------|--------------------------------------|\n| Jupyter Notebook | Interactive environment for coding  |\n| RStudio          | IDE for R programming               |\n| Apache Spark     | Big data processing framework       |\n| Tableau          | Data visualization software         |\n",
      "metadata": {}
    },
    {
      "cell_type": "markdown",
      "source": "## Examples of Arithmetic Operations\nHere are some examples:\n- Addition: `5 + 3 = 8`\n- Subtraction: `10 - 4 = 6`\n- Multiplication: `6 * 7 = 42`\n- Division: `15 / 3 = 5`\n",
      "metadata": {}
    },
    {
      "cell_type": "code",
      "source": "# Multiplication and addition\na = 7\nb = 5\nresult = a * b + b\nprint(\"The result of 7 * 5 + 5 is:\", result)\n",
      "metadata": {
        "trusted": true
      },
      "outputs": [
        {
          "name": "stdout",
          "text": "The result of 7 * 5 + 5 is: 40\n",
          "output_type": "stream"
        }
      ],
      "execution_count": 3
    },
    {
      "cell_type": "code",
      "source": "# Convert minutes to hours\nminutes = 150\nhours = minutes / 60\nprint(f\"{minutes} minutes is equal to {hours} hours\")\n",
      "metadata": {
        "trusted": true
      },
      "outputs": [
        {
          "name": "stdout",
          "text": "150 minutes is equal to 2.5 hours\n",
          "output_type": "stream"
        }
      ],
      "execution_count": 4
    },
    {
      "cell_type": "code",
      "source": "minutes = 10\nhours = 10\nprint(f\"{minutes} minutes is equal to {hours} hours \")",
      "metadata": {
        "trusted": true
      },
      "outputs": [
        {
          "name": "stdout",
          "text": "10 minutes is equal to 10 hours \n",
          "output_type": "stream"
        }
      ],
      "execution_count": 5
    },
    {
      "cell_type": "markdown",
      "source": "## Author\nThis notebook was created by Natalie P.\n",
      "metadata": {}
    }
  ]
}